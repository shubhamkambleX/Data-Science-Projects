{
 "cells": [
  {
   "cell_type": "code",
   "execution_count": 1,
   "metadata": {},
   "outputs": [],
   "source": [
    "import pandas as pd\n",
    "import numpy as np\n",
    "import matplotlib.pyplot as plt\n",
    "%matplotlib inline\n",
    "import seaborn as sns"
   ]
  },
  {
   "cell_type": "code",
   "execution_count": 2,
   "metadata": {},
   "outputs": [
    {
     "data": {
      "text/html": [
       "<div>\n",
       "<style scoped>\n",
       "    .dataframe tbody tr th:only-of-type {\n",
       "        vertical-align: middle;\n",
       "    }\n",
       "\n",
       "    .dataframe tbody tr th {\n",
       "        vertical-align: top;\n",
       "    }\n",
       "\n",
       "    .dataframe thead th {\n",
       "        text-align: right;\n",
       "    }\n",
       "</style>\n",
       "<table border=\"1\" class=\"dataframe\">\n",
       "  <thead>\n",
       "    <tr style=\"text-align: right;\">\n",
       "      <th></th>\n",
       "      <th>Car_Name</th>\n",
       "      <th>Year</th>\n",
       "      <th>Selling_Price</th>\n",
       "      <th>Present_Price</th>\n",
       "      <th>Kms_Driven</th>\n",
       "      <th>Fuel_Type</th>\n",
       "      <th>Seller_Type</th>\n",
       "      <th>Transmission</th>\n",
       "      <th>Owner</th>\n",
       "    </tr>\n",
       "  </thead>\n",
       "  <tbody>\n",
       "    <tr>\n",
       "      <th>0</th>\n",
       "      <td>ritz</td>\n",
       "      <td>2014</td>\n",
       "      <td>3.35</td>\n",
       "      <td>5.59</td>\n",
       "      <td>27000</td>\n",
       "      <td>Petrol</td>\n",
       "      <td>Dealer</td>\n",
       "      <td>Manual</td>\n",
       "      <td>0</td>\n",
       "    </tr>\n",
       "    <tr>\n",
       "      <th>1</th>\n",
       "      <td>sx4</td>\n",
       "      <td>2013</td>\n",
       "      <td>4.75</td>\n",
       "      <td>9.54</td>\n",
       "      <td>43000</td>\n",
       "      <td>Diesel</td>\n",
       "      <td>Dealer</td>\n",
       "      <td>Manual</td>\n",
       "      <td>0</td>\n",
       "    </tr>\n",
       "    <tr>\n",
       "      <th>2</th>\n",
       "      <td>ciaz</td>\n",
       "      <td>2017</td>\n",
       "      <td>7.25</td>\n",
       "      <td>9.85</td>\n",
       "      <td>6900</td>\n",
       "      <td>Petrol</td>\n",
       "      <td>Dealer</td>\n",
       "      <td>Manual</td>\n",
       "      <td>0</td>\n",
       "    </tr>\n",
       "    <tr>\n",
       "      <th>3</th>\n",
       "      <td>wagon r</td>\n",
       "      <td>2011</td>\n",
       "      <td>2.85</td>\n",
       "      <td>4.15</td>\n",
       "      <td>5200</td>\n",
       "      <td>Petrol</td>\n",
       "      <td>Dealer</td>\n",
       "      <td>Manual</td>\n",
       "      <td>0</td>\n",
       "    </tr>\n",
       "    <tr>\n",
       "      <th>4</th>\n",
       "      <td>swift</td>\n",
       "      <td>2014</td>\n",
       "      <td>4.60</td>\n",
       "      <td>6.87</td>\n",
       "      <td>42450</td>\n",
       "      <td>Diesel</td>\n",
       "      <td>Dealer</td>\n",
       "      <td>Manual</td>\n",
       "      <td>0</td>\n",
       "    </tr>\n",
       "  </tbody>\n",
       "</table>\n",
       "</div>"
      ],
      "text/plain": [
       "  Car_Name  Year  Selling_Price  Present_Price  Kms_Driven Fuel_Type  \\\n",
       "0     ritz  2014           3.35           5.59       27000    Petrol   \n",
       "1      sx4  2013           4.75           9.54       43000    Diesel   \n",
       "2     ciaz  2017           7.25           9.85        6900    Petrol   \n",
       "3  wagon r  2011           2.85           4.15        5200    Petrol   \n",
       "4    swift  2014           4.60           6.87       42450    Diesel   \n",
       "\n",
       "  Seller_Type Transmission  Owner  \n",
       "0      Dealer       Manual      0  \n",
       "1      Dealer       Manual      0  \n",
       "2      Dealer       Manual      0  \n",
       "3      Dealer       Manual      0  \n",
       "4      Dealer       Manual      0  "
      ]
     },
     "execution_count": 2,
     "metadata": {},
     "output_type": "execute_result"
    }
   ],
   "source": [
    "df = pd.read_csv('car data.csv')\n",
    "df.head()"
   ]
  },
  {
   "cell_type": "code",
   "execution_count": 3,
   "metadata": {},
   "outputs": [
    {
     "data": {
      "text/plain": [
       "(301, 9)"
      ]
     },
     "execution_count": 3,
     "metadata": {},
     "output_type": "execute_result"
    }
   ],
   "source": [
    "df.shape"
   ]
  },
  {
   "cell_type": "code",
   "execution_count": 4,
   "metadata": {},
   "outputs": [
    {
     "data": {
      "text/plain": [
       "Car_Name         0\n",
       "Year             0\n",
       "Selling_Price    0\n",
       "Present_Price    0\n",
       "Kms_Driven       0\n",
       "Fuel_Type        0\n",
       "Seller_Type      0\n",
       "Transmission     0\n",
       "Owner            0\n",
       "dtype: int64"
      ]
     },
     "execution_count": 4,
     "metadata": {},
     "output_type": "execute_result"
    }
   ],
   "source": [
    "df.isnull().sum()"
   ]
  },
  {
   "cell_type": "code",
   "execution_count": 5,
   "metadata": {},
   "outputs": [
    {
     "data": {
      "text/html": [
       "<div>\n",
       "<style scoped>\n",
       "    .dataframe tbody tr th:only-of-type {\n",
       "        vertical-align: middle;\n",
       "    }\n",
       "\n",
       "    .dataframe tbody tr th {\n",
       "        vertical-align: top;\n",
       "    }\n",
       "\n",
       "    .dataframe thead th {\n",
       "        text-align: right;\n",
       "    }\n",
       "</style>\n",
       "<table border=\"1\" class=\"dataframe\">\n",
       "  <thead>\n",
       "    <tr style=\"text-align: right;\">\n",
       "      <th></th>\n",
       "      <th>Car_Name</th>\n",
       "      <th>Year</th>\n",
       "      <th>Selling_Price</th>\n",
       "      <th>Present_Price</th>\n",
       "      <th>Kms_Driven</th>\n",
       "      <th>Fuel_Type</th>\n",
       "      <th>Seller_Type</th>\n",
       "      <th>Transmission</th>\n",
       "      <th>Owner</th>\n",
       "      <th>numberOfYearold</th>\n",
       "    </tr>\n",
       "  </thead>\n",
       "  <tbody>\n",
       "    <tr>\n",
       "      <th>0</th>\n",
       "      <td>ritz</td>\n",
       "      <td>2014</td>\n",
       "      <td>3.35</td>\n",
       "      <td>5.59</td>\n",
       "      <td>27000</td>\n",
       "      <td>Petrol</td>\n",
       "      <td>Dealer</td>\n",
       "      <td>Manual</td>\n",
       "      <td>0</td>\n",
       "      <td>6</td>\n",
       "    </tr>\n",
       "    <tr>\n",
       "      <th>1</th>\n",
       "      <td>sx4</td>\n",
       "      <td>2013</td>\n",
       "      <td>4.75</td>\n",
       "      <td>9.54</td>\n",
       "      <td>43000</td>\n",
       "      <td>Diesel</td>\n",
       "      <td>Dealer</td>\n",
       "      <td>Manual</td>\n",
       "      <td>0</td>\n",
       "      <td>7</td>\n",
       "    </tr>\n",
       "    <tr>\n",
       "      <th>2</th>\n",
       "      <td>ciaz</td>\n",
       "      <td>2017</td>\n",
       "      <td>7.25</td>\n",
       "      <td>9.85</td>\n",
       "      <td>6900</td>\n",
       "      <td>Petrol</td>\n",
       "      <td>Dealer</td>\n",
       "      <td>Manual</td>\n",
       "      <td>0</td>\n",
       "      <td>3</td>\n",
       "    </tr>\n",
       "    <tr>\n",
       "      <th>3</th>\n",
       "      <td>wagon r</td>\n",
       "      <td>2011</td>\n",
       "      <td>2.85</td>\n",
       "      <td>4.15</td>\n",
       "      <td>5200</td>\n",
       "      <td>Petrol</td>\n",
       "      <td>Dealer</td>\n",
       "      <td>Manual</td>\n",
       "      <td>0</td>\n",
       "      <td>9</td>\n",
       "    </tr>\n",
       "    <tr>\n",
       "      <th>4</th>\n",
       "      <td>swift</td>\n",
       "      <td>2014</td>\n",
       "      <td>4.60</td>\n",
       "      <td>6.87</td>\n",
       "      <td>42450</td>\n",
       "      <td>Diesel</td>\n",
       "      <td>Dealer</td>\n",
       "      <td>Manual</td>\n",
       "      <td>0</td>\n",
       "      <td>6</td>\n",
       "    </tr>\n",
       "  </tbody>\n",
       "</table>\n",
       "</div>"
      ],
      "text/plain": [
       "  Car_Name  Year  Selling_Price  Present_Price  Kms_Driven Fuel_Type  \\\n",
       "0     ritz  2014           3.35           5.59       27000    Petrol   \n",
       "1      sx4  2013           4.75           9.54       43000    Diesel   \n",
       "2     ciaz  2017           7.25           9.85        6900    Petrol   \n",
       "3  wagon r  2011           2.85           4.15        5200    Petrol   \n",
       "4    swift  2014           4.60           6.87       42450    Diesel   \n",
       "\n",
       "  Seller_Type Transmission  Owner  numberOfYearold  \n",
       "0      Dealer       Manual      0                6  \n",
       "1      Dealer       Manual      0                7  \n",
       "2      Dealer       Manual      0                3  \n",
       "3      Dealer       Manual      0                9  \n",
       "4      Dealer       Manual      0                6  "
      ]
     },
     "execution_count": 5,
     "metadata": {},
     "output_type": "execute_result"
    }
   ],
   "source": [
    "df['numberOfYearold'] = 2020 -  df['Year']\n",
    "df.head()"
   ]
  },
  {
   "cell_type": "code",
   "execution_count": 6,
   "metadata": {},
   "outputs": [
    {
     "name": "stdout",
     "output_type": "stream",
     "text": [
      "<class 'pandas.core.frame.DataFrame'>\n",
      "RangeIndex: 301 entries, 0 to 300\n",
      "Data columns (total 10 columns):\n",
      "Car_Name           301 non-null object\n",
      "Year               301 non-null int64\n",
      "Selling_Price      301 non-null float64\n",
      "Present_Price      301 non-null float64\n",
      "Kms_Driven         301 non-null int64\n",
      "Fuel_Type          301 non-null object\n",
      "Seller_Type        301 non-null object\n",
      "Transmission       301 non-null object\n",
      "Owner              301 non-null int64\n",
      "numberOfYearold    301 non-null int64\n",
      "dtypes: float64(2), int64(4), object(4)\n",
      "memory usage: 23.6+ KB\n"
     ]
    }
   ],
   "source": [
    "df.info()"
   ]
  },
  {
   "cell_type": "code",
   "execution_count": 7,
   "metadata": {},
   "outputs": [],
   "source": [
    "final_df = df.copy()\n",
    "final_df.drop(['Car_Name','Year'],axis=1,inplace=True)"
   ]
  },
  {
   "cell_type": "code",
   "execution_count": 8,
   "metadata": {},
   "outputs": [
    {
     "data": {
      "text/html": [
       "<div>\n",
       "<style scoped>\n",
       "    .dataframe tbody tr th:only-of-type {\n",
       "        vertical-align: middle;\n",
       "    }\n",
       "\n",
       "    .dataframe tbody tr th {\n",
       "        vertical-align: top;\n",
       "    }\n",
       "\n",
       "    .dataframe thead th {\n",
       "        text-align: right;\n",
       "    }\n",
       "</style>\n",
       "<table border=\"1\" class=\"dataframe\">\n",
       "  <thead>\n",
       "    <tr style=\"text-align: right;\">\n",
       "      <th></th>\n",
       "      <th>Selling_Price</th>\n",
       "      <th>Present_Price</th>\n",
       "      <th>Kms_Driven</th>\n",
       "      <th>Fuel_Type</th>\n",
       "      <th>Seller_Type</th>\n",
       "      <th>Transmission</th>\n",
       "      <th>Owner</th>\n",
       "      <th>numberOfYearold</th>\n",
       "    </tr>\n",
       "  </thead>\n",
       "  <tbody>\n",
       "    <tr>\n",
       "      <th>0</th>\n",
       "      <td>3.35</td>\n",
       "      <td>5.59</td>\n",
       "      <td>27000</td>\n",
       "      <td>Petrol</td>\n",
       "      <td>Dealer</td>\n",
       "      <td>Manual</td>\n",
       "      <td>0</td>\n",
       "      <td>6</td>\n",
       "    </tr>\n",
       "    <tr>\n",
       "      <th>1</th>\n",
       "      <td>4.75</td>\n",
       "      <td>9.54</td>\n",
       "      <td>43000</td>\n",
       "      <td>Diesel</td>\n",
       "      <td>Dealer</td>\n",
       "      <td>Manual</td>\n",
       "      <td>0</td>\n",
       "      <td>7</td>\n",
       "    </tr>\n",
       "    <tr>\n",
       "      <th>2</th>\n",
       "      <td>7.25</td>\n",
       "      <td>9.85</td>\n",
       "      <td>6900</td>\n",
       "      <td>Petrol</td>\n",
       "      <td>Dealer</td>\n",
       "      <td>Manual</td>\n",
       "      <td>0</td>\n",
       "      <td>3</td>\n",
       "    </tr>\n",
       "    <tr>\n",
       "      <th>3</th>\n",
       "      <td>2.85</td>\n",
       "      <td>4.15</td>\n",
       "      <td>5200</td>\n",
       "      <td>Petrol</td>\n",
       "      <td>Dealer</td>\n",
       "      <td>Manual</td>\n",
       "      <td>0</td>\n",
       "      <td>9</td>\n",
       "    </tr>\n",
       "    <tr>\n",
       "      <th>4</th>\n",
       "      <td>4.60</td>\n",
       "      <td>6.87</td>\n",
       "      <td>42450</td>\n",
       "      <td>Diesel</td>\n",
       "      <td>Dealer</td>\n",
       "      <td>Manual</td>\n",
       "      <td>0</td>\n",
       "      <td>6</td>\n",
       "    </tr>\n",
       "  </tbody>\n",
       "</table>\n",
       "</div>"
      ],
      "text/plain": [
       "   Selling_Price  Present_Price  Kms_Driven Fuel_Type Seller_Type  \\\n",
       "0           3.35           5.59       27000    Petrol      Dealer   \n",
       "1           4.75           9.54       43000    Diesel      Dealer   \n",
       "2           7.25           9.85        6900    Petrol      Dealer   \n",
       "3           2.85           4.15        5200    Petrol      Dealer   \n",
       "4           4.60           6.87       42450    Diesel      Dealer   \n",
       "\n",
       "  Transmission  Owner  numberOfYearold  \n",
       "0       Manual      0                6  \n",
       "1       Manual      0                7  \n",
       "2       Manual      0                3  \n",
       "3       Manual      0                9  \n",
       "4       Manual      0                6  "
      ]
     },
     "execution_count": 8,
     "metadata": {},
     "output_type": "execute_result"
    }
   ],
   "source": [
    "final_df.head()"
   ]
  },
  {
   "cell_type": "code",
   "execution_count": 9,
   "metadata": {},
   "outputs": [
    {
     "data": {
      "text/plain": [
       "array(['Petrol', 'Diesel', 'CNG'], dtype=object)"
      ]
     },
     "execution_count": 9,
     "metadata": {},
     "output_type": "execute_result"
    }
   ],
   "source": [
    "final_df['Fuel_Type'].unique()\n"
   ]
  },
  {
   "cell_type": "code",
   "execution_count": 10,
   "metadata": {},
   "outputs": [
    {
     "data": {
      "text/plain": [
       "array(['Dealer', 'Individual'], dtype=object)"
      ]
     },
     "execution_count": 10,
     "metadata": {},
     "output_type": "execute_result"
    }
   ],
   "source": [
    "final_df['Seller_Type'].unique()"
   ]
  },
  {
   "cell_type": "code",
   "execution_count": 11,
   "metadata": {},
   "outputs": [
    {
     "data": {
      "text/plain": [
       "array(['Manual', 'Automatic'], dtype=object)"
      ]
     },
     "execution_count": 11,
     "metadata": {},
     "output_type": "execute_result"
    }
   ],
   "source": [
    "final_df['Transmission'].unique()"
   ]
  },
  {
   "cell_type": "code",
   "execution_count": 12,
   "metadata": {},
   "outputs": [],
   "source": [
    "final_df = pd.get_dummies(final_df,drop_first=True)"
   ]
  },
  {
   "cell_type": "code",
   "execution_count": 13,
   "metadata": {},
   "outputs": [
    {
     "data": {
      "text/html": [
       "<div>\n",
       "<style scoped>\n",
       "    .dataframe tbody tr th:only-of-type {\n",
       "        vertical-align: middle;\n",
       "    }\n",
       "\n",
       "    .dataframe tbody tr th {\n",
       "        vertical-align: top;\n",
       "    }\n",
       "\n",
       "    .dataframe thead th {\n",
       "        text-align: right;\n",
       "    }\n",
       "</style>\n",
       "<table border=\"1\" class=\"dataframe\">\n",
       "  <thead>\n",
       "    <tr style=\"text-align: right;\">\n",
       "      <th></th>\n",
       "      <th>Selling_Price</th>\n",
       "      <th>Present_Price</th>\n",
       "      <th>Kms_Driven</th>\n",
       "      <th>Owner</th>\n",
       "      <th>numberOfYearold</th>\n",
       "      <th>Fuel_Type_Diesel</th>\n",
       "      <th>Fuel_Type_Petrol</th>\n",
       "      <th>Seller_Type_Individual</th>\n",
       "      <th>Transmission_Manual</th>\n",
       "    </tr>\n",
       "  </thead>\n",
       "  <tbody>\n",
       "    <tr>\n",
       "      <th>0</th>\n",
       "      <td>3.35</td>\n",
       "      <td>5.59</td>\n",
       "      <td>27000</td>\n",
       "      <td>0</td>\n",
       "      <td>6</td>\n",
       "      <td>0</td>\n",
       "      <td>1</td>\n",
       "      <td>0</td>\n",
       "      <td>1</td>\n",
       "    </tr>\n",
       "    <tr>\n",
       "      <th>1</th>\n",
       "      <td>4.75</td>\n",
       "      <td>9.54</td>\n",
       "      <td>43000</td>\n",
       "      <td>0</td>\n",
       "      <td>7</td>\n",
       "      <td>1</td>\n",
       "      <td>0</td>\n",
       "      <td>0</td>\n",
       "      <td>1</td>\n",
       "    </tr>\n",
       "    <tr>\n",
       "      <th>2</th>\n",
       "      <td>7.25</td>\n",
       "      <td>9.85</td>\n",
       "      <td>6900</td>\n",
       "      <td>0</td>\n",
       "      <td>3</td>\n",
       "      <td>0</td>\n",
       "      <td>1</td>\n",
       "      <td>0</td>\n",
       "      <td>1</td>\n",
       "    </tr>\n",
       "    <tr>\n",
       "      <th>3</th>\n",
       "      <td>2.85</td>\n",
       "      <td>4.15</td>\n",
       "      <td>5200</td>\n",
       "      <td>0</td>\n",
       "      <td>9</td>\n",
       "      <td>0</td>\n",
       "      <td>1</td>\n",
       "      <td>0</td>\n",
       "      <td>1</td>\n",
       "    </tr>\n",
       "    <tr>\n",
       "      <th>4</th>\n",
       "      <td>4.60</td>\n",
       "      <td>6.87</td>\n",
       "      <td>42450</td>\n",
       "      <td>0</td>\n",
       "      <td>6</td>\n",
       "      <td>1</td>\n",
       "      <td>0</td>\n",
       "      <td>0</td>\n",
       "      <td>1</td>\n",
       "    </tr>\n",
       "  </tbody>\n",
       "</table>\n",
       "</div>"
      ],
      "text/plain": [
       "   Selling_Price  Present_Price  Kms_Driven  Owner  numberOfYearold  \\\n",
       "0           3.35           5.59       27000      0                6   \n",
       "1           4.75           9.54       43000      0                7   \n",
       "2           7.25           9.85        6900      0                3   \n",
       "3           2.85           4.15        5200      0                9   \n",
       "4           4.60           6.87       42450      0                6   \n",
       "\n",
       "   Fuel_Type_Diesel  Fuel_Type_Petrol  Seller_Type_Individual  \\\n",
       "0                 0                 1                       0   \n",
       "1                 1                 0                       0   \n",
       "2                 0                 1                       0   \n",
       "3                 0                 1                       0   \n",
       "4                 1                 0                       0   \n",
       "\n",
       "   Transmission_Manual  \n",
       "0                    1  \n",
       "1                    1  \n",
       "2                    1  \n",
       "3                    1  \n",
       "4                    1  "
      ]
     },
     "execution_count": 13,
     "metadata": {},
     "output_type": "execute_result"
    }
   ],
   "source": [
    "final_df.head()"
   ]
  },
  {
   "cell_type": "code",
   "execution_count": 14,
   "metadata": {},
   "outputs": [],
   "source": [
    "cor = final_df.corr()"
   ]
  },
  {
   "cell_type": "code",
   "execution_count": 15,
   "metadata": {},
   "outputs": [
    {
     "data": {
      "text/plain": [
       "<matplotlib.axes._subplots.AxesSubplot at 0x7feb2283a1d0>"
      ]
     },
     "execution_count": 15,
     "metadata": {},
     "output_type": "execute_result"
    },
    {
     "data": {
      "image/png": "[encoded data removed]",
      "text/plain": [
       "<Figure size 720x432 with 2 Axes>"
      ]
     },
     "metadata": {
      "needs_background": "light"
     },
     "output_type": "display_data"
    }
   ],
   "source": [
    "plt.figure(figsize=(10,6))\n",
    "sns.heatmap(cor,annot=True,cmap='coolwarm')"
   ]
  },
  {
   "cell_type": "code",
   "execution_count": 16,
   "metadata": {},
   "outputs": [],
   "source": [
    "X= final_df.drop(['Selling_Price'],axis=1)\n",
    "y= final_df['Selling_Price'] "
   ]
  },
  {
   "cell_type": "code",
   "execution_count": null,
   "metadata": {},
   "outputs": [],
   "source": []
  },
  {
   "cell_type": "code",
   "execution_count": 17,
   "metadata": {},
   "outputs": [],
   "source": [
    "from sklearn.model_selection import train_test_split"
   ]
  },
  {
   "cell_type": "code",
   "execution_count": 18,
   "metadata": {},
   "outputs": [],
   "source": [
    "x_train,X_test,y_train,y_test = train_test_split(X,y,test_size=0.2)"
   ]
  },
  {
   "cell_type": "code",
   "execution_count": 19,
   "metadata": {},
   "outputs": [],
   "source": [
    "from sklearn.ensemble import RandomForestRegressor\n",
    "\n",
    "model = RandomForestRegressor()"
   ]
  },
  {
   "cell_type": "code",
   "execution_count": 20,
   "metadata": {},
   "outputs": [],
   "source": [
    "# we will used Randomized search cv\n",
    "# number of tree in random forest\n",
    "n_estimators = [int(x) for x in np.linspace(start=100, stop=1200,num=12)]\n",
    "# number of features to consider in every split\n",
    "max_features = ['auto','sqrt']\n",
    "# maximum level of levels in tree\n",
    "max_depth = [int(x) for x in np.linspace(5,30,num=6)]\n",
    "# minimum samples are required to split a node\n",
    "min_samples_split = [2,5,10,15,100]\n",
    "# minimum samples required at each leaf node\n",
    "min_samples_leaf = [1,2,5,10]\n",
    "\n"
   ]
  },
  {
   "cell_type": "code",
   "execution_count": 21,
   "metadata": {},
   "outputs": [],
   "source": [
    "from sklearn.model_selection import RandomizedSearchCV"
   ]
  },
  {
   "cell_type": "code",
   "execution_count": 22,
   "metadata": {},
   "outputs": [
    {
     "name": "stdout",
     "output_type": "stream",
     "text": [
      "{'n_estimators': [100, 200, 300, 400, 500, 600, 700, 800, 900, 1000, 1100, 1200], 'max_features': ['auto', 'sqrt'], 'min_samples_split': [2, 5, 10, 15, 100], 'max_depth': [5, 10, 15, 20, 25, 30], 'min_samples_leaf': [1, 2, 5, 10]}\n"
     ]
    }
   ],
   "source": [
    "# create the random grid\n",
    "random_grid = {'n_estimators':n_estimators,\n",
    "               'max_features':max_features,\n",
    "               'max_depth':max_depth,\n",
    "               'min_samples_split':min_samples_split,\n",
    "               'min_samples_leaf':min_samples_leaf}\n",
    "print(random_grid)"
   ]
  },
  {
   "cell_type": "code",
   "execution_count": 23,
   "metadata": {},
   "outputs": [],
   "source": [
    "# use random_grid for the best hyperparameters\n",
    "# first create the base model to tune\n",
    "rf = RandomForestRegressor()"
   ]
  },
  {
   "cell_type": "code",
   "execution_count": 24,
   "metadata": {},
   "outputs": [],
   "source": [
    "rf_random = RandomizedSearchCV(estimator = rf, param_distributions = random_grid,scoring='neg_mean_squared_error', n_iter = 10, cv = 5, verbose=2, random_state=42, n_jobs = 1)"
   ]
  },
  {
   "cell_type": "code",
   "execution_count": 25,
   "metadata": {},
   "outputs": [
    {
     "name": "stdout",
     "output_type": "stream",
     "text": [
      "Fitting 5 folds for each of 10 candidates, totalling 50 fits\n",
      "[CV] n_estimators=900, min_samples_split=5, max_depth=10, max_features=sqrt, min_samples_leaf=5 \n"
     ]
    },
    {
     "name": "stderr",
     "output_type": "stream",
     "text": [
      "[Parallel(n_jobs=1)]: Using backend SequentialBackend with 1 concurrent workers.\n"
     ]
    },
    {
     "name": "stdout",
     "output_type": "stream",
     "text": [
      "[CV]  n_estimators=900, min_samples_split=5, max_depth=10, max_features=sqrt, min_samples_leaf=5, total=   2.9s\n",
      "[CV] n_estimators=900, min_samples_split=5, max_depth=10, max_features=sqrt, min_samples_leaf=5 \n"
     ]
    },
    {
     "name": "stderr",
     "output_type": "stream",
     "text": [
      "[Parallel(n_jobs=1)]: Done   1 out of   1 | elapsed:    2.9s remaining:    0.0s\n"
     ]
    },
    {
     "name": "stdout",
     "output_type": "stream",
     "text": [
      "[CV]  n_estimators=900, min_samples_split=5, max_depth=10, max_features=sqrt, min_samples_leaf=5, total=   2.6s\n",
      "[CV] n_estimators=900, min_samples_split=5, max_depth=10, max_features=sqrt, min_samples_leaf=5 \n",
      "[CV]  n_estimators=900, min_samples_split=5, max_depth=10, max_features=sqrt, min_samples_leaf=5, total=   2.5s\n",
      "[CV] n_estimators=900, min_samples_split=5, max_depth=10, max_features=sqrt, min_samples_leaf=5 \n",
      "[CV]  n_estimators=900, min_samples_split=5, max_depth=10, max_features=sqrt, min_samples_leaf=5, total=   2.6s\n",
      "[CV] n_estimators=900, min_samples_split=5, max_depth=10, max_features=sqrt, min_samples_leaf=5 \n",
      "[CV]  n_estimators=900, min_samples_split=5, max_depth=10, max_features=sqrt, min_samples_leaf=5, total=   2.5s\n",
      "[CV] n_estimators=1100, min_samples_split=10, max_depth=15, max_features=sqrt, min_samples_leaf=2 \n",
      "[CV]  n_estimators=1100, min_samples_split=10, max_depth=15, max_features=sqrt, min_samples_leaf=2, total=   3.1s\n",
      "[CV] n_estimators=1100, min_samples_split=10, max_depth=15, max_features=sqrt, min_samples_leaf=2 \n",
      "[CV]  n_estimators=1100, min_samples_split=10, max_depth=15, max_features=sqrt, min_samples_leaf=2, total=   3.2s\n",
      "[CV] n_estimators=1100, min_samples_split=10, max_depth=15, max_features=sqrt, min_samples_leaf=2 \n",
      "[CV]  n_estimators=1100, min_samples_split=10, max_depth=15, max_features=sqrt, min_samples_leaf=2, total=   3.0s\n",
      "[CV] n_estimators=1100, min_samples_split=10, max_depth=15, max_features=sqrt, min_samples_leaf=2 \n",
      "[CV]  n_estimators=1100, min_samples_split=10, max_depth=15, max_features=sqrt, min_samples_leaf=2, total=   3.4s\n",
      "[CV] n_estimators=1100, min_samples_split=10, max_depth=15, max_features=sqrt, min_samples_leaf=2 \n",
      "[CV]  n_estimators=1100, min_samples_split=10, max_depth=15, max_features=sqrt, min_samples_leaf=2, total=   3.3s\n",
      "[CV] n_estimators=300, min_samples_split=100, max_depth=15, max_features=auto, min_samples_leaf=5 \n",
      "[CV]  n_estimators=300, min_samples_split=100, max_depth=15, max_features=auto, min_samples_leaf=5, total=   0.9s\n",
      "[CV] n_estimators=300, min_samples_split=100, max_depth=15, max_features=auto, min_samples_leaf=5 \n",
      "[CV]  n_estimators=300, min_samples_split=100, max_depth=15, max_features=auto, min_samples_leaf=5, total=   0.9s\n",
      "[CV] n_estimators=300, min_samples_split=100, max_depth=15, max_features=auto, min_samples_leaf=5 \n",
      "[CV]  n_estimators=300, min_samples_split=100, max_depth=15, max_features=auto, min_samples_leaf=5, total=   0.9s\n",
      "[CV] n_estimators=300, min_samples_split=100, max_depth=15, max_features=auto, min_samples_leaf=5 \n",
      "[CV]  n_estimators=300, min_samples_split=100, max_depth=15, max_features=auto, min_samples_leaf=5, total=   0.9s\n",
      "[CV] n_estimators=300, min_samples_split=100, max_depth=15, max_features=auto, min_samples_leaf=5 \n",
      "[CV]  n_estimators=300, min_samples_split=100, max_depth=15, max_features=auto, min_samples_leaf=5, total=   1.1s\n",
      "[CV] n_estimators=400, min_samples_split=5, max_depth=15, max_features=auto, min_samples_leaf=5 \n",
      "[CV]  n_estimators=400, min_samples_split=5, max_depth=15, max_features=auto, min_samples_leaf=5, total=   1.7s\n",
      "[CV] n_estimators=400, min_samples_split=5, max_depth=15, max_features=auto, min_samples_leaf=5 \n",
      "[CV]  n_estimators=400, min_samples_split=5, max_depth=15, max_features=auto, min_samples_leaf=5, total=   1.5s\n",
      "[CV] n_estimators=400, min_samples_split=5, max_depth=15, max_features=auto, min_samples_leaf=5 \n",
      "[CV]  n_estimators=400, min_samples_split=5, max_depth=15, max_features=auto, min_samples_leaf=5, total=   1.5s\n",
      "[CV] n_estimators=400, min_samples_split=5, max_depth=15, max_features=auto, min_samples_leaf=5 \n",
      "[CV]  n_estimators=400, min_samples_split=5, max_depth=15, max_features=auto, min_samples_leaf=5, total=   1.2s\n",
      "[CV] n_estimators=400, min_samples_split=5, max_depth=15, max_features=auto, min_samples_leaf=5 \n",
      "[CV]  n_estimators=400, min_samples_split=5, max_depth=15, max_features=auto, min_samples_leaf=5, total=   1.4s\n",
      "[CV] n_estimators=700, min_samples_split=5, max_depth=20, max_features=auto, min_samples_leaf=10 \n",
      "[CV]  n_estimators=700, min_samples_split=5, max_depth=20, max_features=auto, min_samples_leaf=10, total=   2.1s\n",
      "[CV] n_estimators=700, min_samples_split=5, max_depth=20, max_features=auto, min_samples_leaf=10 \n",
      "[CV]  n_estimators=700, min_samples_split=5, max_depth=20, max_features=auto, min_samples_leaf=10, total=   2.3s\n",
      "[CV] n_estimators=700, min_samples_split=5, max_depth=20, max_features=auto, min_samples_leaf=10 \n",
      "[CV]  n_estimators=700, min_samples_split=5, max_depth=20, max_features=auto, min_samples_leaf=10, total=   2.3s\n",
      "[CV] n_estimators=700, min_samples_split=5, max_depth=20, max_features=auto, min_samples_leaf=10 \n",
      "[CV]  n_estimators=700, min_samples_split=5, max_depth=20, max_features=auto, min_samples_leaf=10, total=   2.1s\n",
      "[CV] n_estimators=700, min_samples_split=5, max_depth=20, max_features=auto, min_samples_leaf=10 \n",
      "[CV]  n_estimators=700, min_samples_split=5, max_depth=20, max_features=auto, min_samples_leaf=10, total=   2.0s\n",
      "[CV] n_estimators=1000, min_samples_split=2, max_depth=25, max_features=sqrt, min_samples_leaf=1 \n",
      "[CV]  n_estimators=1000, min_samples_split=2, max_depth=25, max_features=sqrt, min_samples_leaf=1, total=   2.9s\n",
      "[CV] n_estimators=1000, min_samples_split=2, max_depth=25, max_features=sqrt, min_samples_leaf=1 \n",
      "[CV]  n_estimators=1000, min_samples_split=2, max_depth=25, max_features=sqrt, min_samples_leaf=1, total=   2.8s\n",
      "[CV] n_estimators=1000, min_samples_split=2, max_depth=25, max_features=sqrt, min_samples_leaf=1 \n",
      "[CV]  n_estimators=1000, min_samples_split=2, max_depth=25, max_features=sqrt, min_samples_leaf=1, total=   3.1s\n",
      "[CV] n_estimators=1000, min_samples_split=2, max_depth=25, max_features=sqrt, min_samples_leaf=1 \n",
      "[CV]  n_estimators=1000, min_samples_split=2, max_depth=25, max_features=sqrt, min_samples_leaf=1, total=   2.9s\n",
      "[CV] n_estimators=1000, min_samples_split=2, max_depth=25, max_features=sqrt, min_samples_leaf=1 \n",
      "[CV]  n_estimators=1000, min_samples_split=2, max_depth=25, max_features=sqrt, min_samples_leaf=1, total=   2.9s\n",
      "[CV] n_estimators=1100, min_samples_split=15, max_depth=5, max_features=sqrt, min_samples_leaf=10 \n",
      "[CV]  n_estimators=1100, min_samples_split=15, max_depth=5, max_features=sqrt, min_samples_leaf=10, total=   2.9s\n",
      "[CV] n_estimators=1100, min_samples_split=15, max_depth=5, max_features=sqrt, min_samples_leaf=10 \n",
      "[CV]  n_estimators=1100, min_samples_split=15, max_depth=5, max_features=sqrt, min_samples_leaf=10, total=   3.4s\n",
      "[CV] n_estimators=1100, min_samples_split=15, max_depth=5, max_features=sqrt, min_samples_leaf=10 \n",
      "[CV]  n_estimators=1100, min_samples_split=15, max_depth=5, max_features=sqrt, min_samples_leaf=10, total=   3.6s\n",
      "[CV] n_estimators=1100, min_samples_split=15, max_depth=5, max_features=sqrt, min_samples_leaf=10 \n",
      "[CV]  n_estimators=1100, min_samples_split=15, max_depth=5, max_features=sqrt, min_samples_leaf=10, total=   3.8s\n",
      "[CV] n_estimators=1100, min_samples_split=15, max_depth=5, max_features=sqrt, min_samples_leaf=10 \n",
      "[CV]  n_estimators=1100, min_samples_split=15, max_depth=5, max_features=sqrt, min_samples_leaf=10, total=   3.7s\n",
      "[CV] n_estimators=300, min_samples_split=15, max_depth=15, max_features=sqrt, min_samples_leaf=1 \n",
      "[CV]  n_estimators=300, min_samples_split=15, max_depth=15, max_features=sqrt, min_samples_leaf=1, total=   1.5s\n",
      "[CV] n_estimators=300, min_samples_split=15, max_depth=15, max_features=sqrt, min_samples_leaf=1 \n",
      "[CV]  n_estimators=300, min_samples_split=15, max_depth=15, max_features=sqrt, min_samples_leaf=1, total=   0.9s\n",
      "[CV] n_estimators=300, min_samples_split=15, max_depth=15, max_features=sqrt, min_samples_leaf=1 \n",
      "[CV]  n_estimators=300, min_samples_split=15, max_depth=15, max_features=sqrt, min_samples_leaf=1, total=   1.3s\n",
      "[CV] n_estimators=300, min_samples_split=15, max_depth=15, max_features=sqrt, min_samples_leaf=1 \n",
      "[CV]  n_estimators=300, min_samples_split=15, max_depth=15, max_features=sqrt, min_samples_leaf=1, total=   1.4s\n",
      "[CV] n_estimators=300, min_samples_split=15, max_depth=15, max_features=sqrt, min_samples_leaf=1 \n",
      "[CV]  n_estimators=300, min_samples_split=15, max_depth=15, max_features=sqrt, min_samples_leaf=1, total=   1.6s\n",
      "[CV] n_estimators=700, min_samples_split=10, max_depth=5, max_features=sqrt, min_samples_leaf=2 \n"
     ]
    },
    {
     "name": "stdout",
     "output_type": "stream",
     "text": [
      "[CV]  n_estimators=700, min_samples_split=10, max_depth=5, max_features=sqrt, min_samples_leaf=2, total=   2.9s\n",
      "[CV] n_estimators=700, min_samples_split=10, max_depth=5, max_features=sqrt, min_samples_leaf=2 \n",
      "[CV]  n_estimators=700, min_samples_split=10, max_depth=5, max_features=sqrt, min_samples_leaf=2, total=   3.0s\n",
      "[CV] n_estimators=700, min_samples_split=10, max_depth=5, max_features=sqrt, min_samples_leaf=2 \n",
      "[CV]  n_estimators=700, min_samples_split=10, max_depth=5, max_features=sqrt, min_samples_leaf=2, total=   3.3s\n",
      "[CV] n_estimators=700, min_samples_split=10, max_depth=5, max_features=sqrt, min_samples_leaf=2 \n",
      "[CV]  n_estimators=700, min_samples_split=10, max_depth=5, max_features=sqrt, min_samples_leaf=2, total=   3.7s\n",
      "[CV] n_estimators=700, min_samples_split=10, max_depth=5, max_features=sqrt, min_samples_leaf=2 \n",
      "[CV]  n_estimators=700, min_samples_split=10, max_depth=5, max_features=sqrt, min_samples_leaf=2, total=   3.5s\n",
      "[CV] n_estimators=700, min_samples_split=15, max_depth=20, max_features=auto, min_samples_leaf=1 \n",
      "[CV]  n_estimators=700, min_samples_split=15, max_depth=20, max_features=auto, min_samples_leaf=1, total=   2.5s\n",
      "[CV] n_estimators=700, min_samples_split=15, max_depth=20, max_features=auto, min_samples_leaf=1 \n",
      "[CV]  n_estimators=700, min_samples_split=15, max_depth=20, max_features=auto, min_samples_leaf=1, total=   3.1s\n",
      "[CV] n_estimators=700, min_samples_split=15, max_depth=20, max_features=auto, min_samples_leaf=1 \n",
      "[CV]  n_estimators=700, min_samples_split=15, max_depth=20, max_features=auto, min_samples_leaf=1, total=   2.9s\n",
      "[CV] n_estimators=700, min_samples_split=15, max_depth=20, max_features=auto, min_samples_leaf=1 \n",
      "[CV]  n_estimators=700, min_samples_split=15, max_depth=20, max_features=auto, min_samples_leaf=1, total=   3.9s\n",
      "[CV] n_estimators=700, min_samples_split=15, max_depth=20, max_features=auto, min_samples_leaf=1 \n",
      "[CV]  n_estimators=700, min_samples_split=15, max_depth=20, max_features=auto, min_samples_leaf=1, total=   3.3s\n"
     ]
    },
    {
     "name": "stderr",
     "output_type": "stream",
     "text": [
      "[Parallel(n_jobs=1)]: Done  50 out of  50 | elapsed:  2.1min finished\n"
     ]
    },
    {
     "data": {
      "text/plain": [
       "RandomizedSearchCV(cv=5, error_score='raise-deprecating',\n",
       "          estimator=RandomForestRegressor(bootstrap=True, criterion='mse', max_depth=None,\n",
       "           max_features='auto', max_leaf_nodes=None,\n",
       "           min_impurity_decrease=0.0, min_impurity_split=None,\n",
       "           min_samples_leaf=1, min_samples_split=2,\n",
       "           min_weight_fraction_leaf=0.0, n_estimators='warn', n_jobs=None,\n",
       "           oob_score=False, random_state=None, verbose=0, warm_start=False),\n",
       "          fit_params=None, iid='warn', n_iter=10, n_jobs=1,\n",
       "          param_distributions={'n_estimators': [100, 200, 300, 400, 500, 600, 700, 800, 900, 1000, 1100, 1200], 'max_features': ['auto', 'sqrt'], 'min_samples_split': [2, 5, 10, 15, 100], 'max_depth': [5, 10, 15, 20, 25, 30], 'min_samples_leaf': [1, 2, 5, 10]},\n",
       "          pre_dispatch='2*n_jobs', random_state=42, refit=True,\n",
       "          return_train_score='warn', scoring='neg_mean_squared_error',\n",
       "          verbose=2)"
      ]
     },
     "execution_count": 25,
     "metadata": {},
     "output_type": "execute_result"
    }
   ],
   "source": [
    "rf_random.fit(x_train,y_train)"
   ]
  },
  {
   "cell_type": "code",
   "execution_count": 26,
   "metadata": {},
   "outputs": [],
   "source": [
    "prediction = rf_random.predict(X_test)"
   ]
  },
  {
   "cell_type": "code",
   "execution_count": 27,
   "metadata": {},
   "outputs": [
    {
     "data": {
      "text/plain": [
       "array([20.88939 ,  0.63949 ,  0.60872 ,  4.42045 ,  0.88611 ,  0.49956 ,\n",
       "        0.79526 , 11.24281 , 20.34339 ,  0.2252  ,  2.46216 ,  6.71343 ,\n",
       "        2.37836 ,  3.33818 ,  5.5748  ,  3.23783 ,  1.44734 ,  0.62714 ,\n",
       "        5.57982 ,  4.41315 ,  0.58214 ,  0.46803 ,  0.85085 ,  3.53216 ,\n",
       "        1.33904 ,  5.25663 ,  2.69724 ,  2.78712 ,  5.01355 ,  9.84516 ,\n",
       "        0.54647 ,  7.39812 , 21.67023 ,  1.03329 ,  4.4013  ,  0.79594 ,\n",
       "        2.57411 ,  0.53172 ,  4.811875,  4.80215 ,  2.82422 ,  5.54857 ,\n",
       "        0.36465 ,  3.70137 ,  6.73251 ,  5.44825 ,  5.07088 ,  0.22906 ,\n",
       "        6.98258 ,  0.78331 ,  0.51823 ,  6.83664 ,  0.88638 ,  6.514305,\n",
       "        2.88241 ,  0.33056 ,  6.83664 ,  8.79247 ,  0.56962 ,  0.64043 ,\n",
       "        9.43203 ])"
      ]
     },
     "execution_count": 27,
     "metadata": {},
     "output_type": "execute_result"
    }
   ],
   "source": [
    "prediction"
   ]
  },
  {
   "cell_type": "code",
   "execution_count": 28,
   "metadata": {},
   "outputs": [
    {
     "data": {
      "text/plain": [
       "<matplotlib.axes._subplots.AxesSubplot at 0x7feb20034fd0>"
      ]
     },
     "execution_count": 28,
     "metadata": {},
     "output_type": "execute_result"
    },
    {
     "data": {
      "image/png": "[encoded data removed]",
      "text/plain": [
       "<Figure size 432x288 with 1 Axes>"
      ]
     },
     "metadata": {
      "needs_background": "light"
     },
     "output_type": "display_data"
    }
   ],
   "source": [
    "sns.distplot(y_test-prediction)"
   ]
  },
  {
   "cell_type": "code",
   "execution_count": 29,
   "metadata": {},
   "outputs": [
    {
     "data": {
      "text/plain": [
       "<matplotlib.collections.PathCollection at 0x7feb1923b550>"
      ]
     },
     "execution_count": 29,
     "metadata": {},
     "output_type": "execute_result"
    },
    {
     "data": {
      "image/png": "[encoded data removed]",
      "text/plain": [
       "<Figure size 432x288 with 1 Axes>"
      ]
     },
     "metadata": {
      "needs_background": "light"
     },
     "output_type": "display_data"
    }
   ],
   "source": [
    "plt.scatter(y_test,prediction)"
   ]
  },
  {
   "cell_type": "code",
   "execution_count": 30,
   "metadata": {},
   "outputs": [
    {
     "name": "stderr",
     "output_type": "stream",
     "text": [
      "/home/shubham/.local/lib/python2.7/site-packages/sklearn/ensemble/forest.py:246: FutureWarning: The default value of n_estimators will change from 10 in version 0.20 to 100 in 0.22.\n",
      "  \"10 in version 0.20 to 100 in 0.22.\", FutureWarning)\n"
     ]
    },
    {
     "data": {
      "text/plain": [
       "RandomForestRegressor(bootstrap=True, criterion='mse', max_depth=None,\n",
       "           max_features='auto', max_leaf_nodes=None,\n",
       "           min_impurity_decrease=0.0, min_impurity_split=None,\n",
       "           min_samples_leaf=1, min_samples_split=2,\n",
       "           min_weight_fraction_leaf=0.0, n_estimators=10, n_jobs=None,\n",
       "           oob_score=False, random_state=None, verbose=0, warm_start=False)"
      ]
     },
     "execution_count": 30,
     "metadata": {},
     "output_type": "execute_result"
    }
   ],
   "source": [
    "model.fit(x_train,y_train)"
   ]
  },
  {
   "cell_type": "code",
   "execution_count": 31,
   "metadata": {},
   "outputs": [],
   "source": [
    "pre = model.predict(X_test)"
   ]
  },
  {
   "cell_type": "code",
   "execution_count": 32,
   "metadata": {},
   "outputs": [
    {
     "data": {
      "text/plain": [
       "array([21.265,  0.627,  0.415,  4.46 ,  0.7  ,  0.495,  1.   , 11.888,\n",
       "       20.8  ,  0.132,  1.545,  7.135,  3.127,  3.57 ,  5.71 ,  2.795,\n",
       "        2.175,  0.615,  5.19 ,  4.655,  0.354,  0.428,  0.454,  3.545,\n",
       "        1.251,  5.395,  2.275,  3.155,  4.885,  9.28 ,  0.495,  7.12 ,\n",
       "       21.65 ,  1.183,  4.61 ,  0.745,  2.685,  0.526,  4.155,  3.835,\n",
       "        2.86 ,  5.205,  0.275,  3.13 ,  7.46 ,  5.815,  5.065,  0.194,\n",
       "        6.775,  0.627,  0.446,  7.265,  0.767,  4.66 ,  2.775,  0.263,\n",
       "        7.265,  9.295,  0.572,  0.52 ,  7.965])"
      ]
     },
     "execution_count": 32,
     "metadata": {},
     "output_type": "execute_result"
    }
   ],
   "source": [
    "pre"
   ]
  },
  {
   "cell_type": "code",
   "execution_count": 33,
   "metadata": {},
   "outputs": [
    {
     "data": {
      "text/plain": [
       "<matplotlib.axes._subplots.AxesSubplot at 0x7feb1913e110>"
      ]
     },
     "execution_count": 33,
     "metadata": {},
     "output_type": "execute_result"
    },
    {
     "data": {
      "image/png": "[encoded data removed]",
      "text/plain": [
       "<Figure size 432x288 with 1 Axes>"
      ]
     },
     "metadata": {
      "needs_background": "light"
     },
     "output_type": "display_data"
    }
   ],
   "source": [
    "sns.distplot(y_test-pre)"
   ]
  },
  {
   "cell_type": "code",
   "execution_count": 34,
   "metadata": {},
   "outputs": [
    {
     "data": {
      "text/plain": [
       "<matplotlib.collections.PathCollection at 0x7feb190784d0>"
      ]
     },
     "execution_count": 34,
     "metadata": {},
     "output_type": "execute_result"
    },
    {
     "data": {
      "image/png": "[encoded data removed]",
      "text/plain": [
       "<Figure size 432x288 with 1 Axes>"
      ]
     },
     "metadata": {
      "needs_background": "light"
     },
     "output_type": "display_data"
    }
   ],
   "source": [
    "plt.scatter(y_test,pre)"
   ]
  },
  {
   "cell_type": "code",
   "execution_count": 35,
   "metadata": {},
   "outputs": [],
   "source": [
    "from sklearn.linear_model import  LinearRegression\n",
    "R = LinearRegression()"
   ]
  },
  {
   "cell_type": "code",
   "execution_count": 36,
   "metadata": {},
   "outputs": [
    {
     "data": {
      "text/plain": [
       "LinearRegression(copy_X=True, fit_intercept=True, n_jobs=None,\n",
       "         normalize=False)"
      ]
     },
     "execution_count": 36,
     "metadata": {},
     "output_type": "execute_result"
    }
   ],
   "source": [
    "R.fit(x_train,y_train)"
   ]
  },
  {
   "cell_type": "code",
   "execution_count": 37,
   "metadata": {},
   "outputs": [],
   "source": [
    "p = R.predict(X_test)"
   ]
  },
  {
   "cell_type": "code",
   "execution_count": 38,
   "metadata": {},
   "outputs": [
    {
     "data": {
      "text/plain": [
       "array([18.20239194,  0.75134428,  2.91670373,  4.8972651 ,  2.09631193,\n",
       "       -0.24094671, -1.30251211, 10.02832272, 20.03958118, -3.69975435,\n",
       "        1.59156971,  6.58336088,  0.26950558,  2.99454836,  8.31938015,\n",
       "        2.46537411,  1.28184967,  1.11636596,  6.27136343,  4.50874724,\n",
       "       -0.70951544, -0.64558477,  1.96623473,  2.4801221 ,  2.35387391,\n",
       "        5.0321569 , -0.28671474,  1.94019888,  4.36960847, 10.15377998,\n",
       "       -0.14196209,  8.12634216, 20.46520571,  1.37232868,  3.85660407,\n",
       "        2.11238854,  1.6491905 ,  0.71652565,  6.20119726,  5.25897926,\n",
       "        2.06111609,  6.79832942,  0.05802918,  3.42396328,  8.90425555,\n",
       "        6.6739228 ,  5.10884774, -2.28287698,  7.43852219,  1.19447067,\n",
       "        1.28611185,  6.91376489,  1.7946426 ,  6.32274776,  3.07038255,\n",
       "        0.06181682,  6.91308928,  7.75928722,  0.94746353, -0.16721323,\n",
       "        9.14068634])"
      ]
     },
     "execution_count": 38,
     "metadata": {},
     "output_type": "execute_result"
    }
   ],
   "source": [
    "p"
   ]
  },
  {
   "cell_type": "code",
   "execution_count": 39,
   "metadata": {},
   "outputs": [
    {
     "data": {
      "text/plain": [
       "<matplotlib.collections.PathCollection at 0x7feb17b7a9d0>"
      ]
     },
     "execution_count": 39,
     "metadata": {},
     "output_type": "execute_result"
    },
    {
     "data": {
      "image/png": "[encoded data removed]",
      "text/plain": [
       "<Figure size 432x288 with 1 Axes>"
      ]
     },
     "metadata": {
      "needs_background": "light"
     },
     "output_type": "display_data"
    }
   ],
   "source": [
    "plt.scatter(y_test,p)"
   ]
  },
  {
   "cell_type": "code",
   "execution_count": 40,
   "metadata": {},
   "outputs": [
    {
     "data": {
      "text/plain": [
       "<matplotlib.axes._subplots.AxesSubplot at 0x7feb17b91690>"
      ]
     },
     "execution_count": 40,
     "metadata": {},
     "output_type": "execute_result"
    },
    {
     "data": {
      "image/png": "[encoded data removed]",
      "text/plain": [
       "<Figure size 432x288 with 1 Axes>"
      ]
     },
     "metadata": {
      "needs_background": "light"
     },
     "output_type": "display_data"
    }
   ],
   "source": [
    "sns.distplot(y_test-p)"
   ]
  },
  {
   "cell_type": "code",
   "execution_count": 45,
   "metadata": {},
   "outputs": [
    {
     "name": "stdout",
     "output_type": "stream",
     "text": [
      "('Accuracy of LR', 49.11578507532786)\n"
     ]
    }
   ],
   "source": [
    "from sklearn.metrics import classification_report,confusion_matrix,mean_squared_error\n",
    "print('Accuracy of LR',mean_squared_error(prediction,y_test)*100)"
   ]
  },
  {
   "cell_type": "code",
   "execution_count": null,
   "metadata": {},
   "outputs": [],
   "source": []
  },
  {
   "cell_type": "code",
   "execution_count": null,
   "metadata": {},
   "outputs": [],
   "source": []
  }
 ],
 "metadata": {
  "kernelspec": {
   "display_name": "Python 3",
   "language": "python",
   "name": "python3"
  },
  "language_info": {
   "codemirror_mode": {
    "name": "ipython",
    "version": 2
   },
   "file_extension": ".py",
   "mimetype": "text/x-python",
   "name": "python",
   "nbconvert_exporter": "python",
   "pygments_lexer": "ipython2",
   "version": "2.7.17"
  }
 },
 "nbformat": 4,
 "nbformat_minor": 2
}
